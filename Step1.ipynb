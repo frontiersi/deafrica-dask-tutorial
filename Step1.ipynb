{
 "cells": [
  {
   "cell_type": "code",
   "execution_count": null,
   "id": "e3eb5d08-8515-4cfb-9ea4-f45c12914980",
   "metadata": {},
   "outputs": [],
   "source": [
    "# loading packages \n",
    "import datacube \n",
    "import matplotlib.pyplot as plt\n",
    "from deafrica_tools.dask import create_local_dask_cluster\n",
    "from deafrica_tools.plotting import rgb, display_map"
   ]
  },
  {
   "cell_type": "code",
   "execution_count": null,
   "id": "75ff9a1c-7d8f-4c40-95bf-101bf24c277d",
   "metadata": {},
   "outputs": [],
   "source": [
    "# connecting to the datacube \n",
    "dc = datacube.Datacube(app='Step1')"
   ]
  },
  {
   "cell_type": "code",
   "execution_count": null,
   "id": "46d79dd1-c90e-409d-bdad-81e6d45675c9",
   "metadata": {
    "tags": []
   },
   "outputs": [],
   "source": [
    "# standard load function for data\n",
    "data = dc.load(product='gm_s2_annual',\n",
    "              measurements=['red','green', 'blue', 'nir'],\n",
    "              x=(31.90, 32.00),\n",
    "              y=(30.49, 30.40),\n",
    "              time=('2020-01-01', '2020-12-31'))\n",
    "\n",
    "# return data \n",
    "data"
   ]
  },
  {
   "cell_type": "code",
   "execution_count": null,
   "id": "f77b995c-62c3-413f-a115-99212c813cf2",
   "metadata": {},
   "outputs": [],
   "source": [
    "# lazy loading data through dask chunks parameter\n",
    "lazy_data = dc.load(product='gm_s2_annual',\n",
    "                   measurements=['red','green', 'blue', 'nir'],\n",
    "                   x=(31.90, 32.00),\n",
    "                   y=(30.49, 30.40),\n",
    "                   time=('2020-01-01', '2020-12-31'),\n",
    "                   dask_chunks={'time':1,'x':500, 'y':500})\n",
    "# return data\n",
    "lazy_data"
   ]
  },
  {
   "cell_type": "code",
   "execution_count": null,
   "id": "59b47fac-97aa-4f59-aaf0-312a4a6a457f",
   "metadata": {},
   "outputs": [],
   "source": [
    "# View a rgb (true colour) image of study area\n",
    "rgb(lazy_data, bands=['red', 'green', 'blue'])"
   ]
  },
  {
   "cell_type": "code",
   "execution_count": null,
   "id": "4db3c37d-adc5-4507-b169-c89e2da87cb7",
   "metadata": {},
   "outputs": [],
   "source": [
    "# formatting the figure \n",
    "fig , axis = plt.subplots(1, 1, figsize=(6, 6))\n",
    "axis.set_aspect('equal')\n",
    "\n",
    "lazy_data.red.plot(ax= axis)"
   ]
  },
  {
   "cell_type": "code",
   "execution_count": null,
   "id": "905a0368-e01a-4424-848b-1f1172430ed9",
   "metadata": {},
   "outputs": [],
   "source": []
  }
 ],
 "metadata": {
  "kernelspec": {
   "display_name": "Python 3 (ipykernel)",
   "language": "python",
   "name": "python3"
  },
  "language_info": {
   "codemirror_mode": {
    "name": "ipython",
    "version": 3
   },
   "file_extension": ".py",
   "mimetype": "text/x-python",
   "name": "python",
   "nbconvert_exporter": "python",
   "pygments_lexer": "ipython3",
   "version": "3.8.10"
  }
 },
 "nbformat": 4,
 "nbformat_minor": 5
}
